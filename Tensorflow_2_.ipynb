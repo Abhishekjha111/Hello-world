{
  "nbformat": 4,
  "nbformat_minor": 0,
  "metadata": {
    "colab": {
      "name": "Tensorflow_2 .ipynb",
      "provenance": [],
      "collapsed_sections": [],
      "include_colab_link": true
    },
    "kernelspec": {
      "name": "python3",
      "display_name": "Python 3"
    },
    "accelerator": "GPU"
  },
  "cells": [
    {
      "cell_type": "markdown",
      "metadata": {
        "id": "view-in-github",
        "colab_type": "text"
      },
      "source": [
        "<a href=\"https://colab.research.google.com/github/Abhishekjha111/Hello-world/blob/master/Tensorflow_2_.ipynb\" target=\"_parent\"><img src=\"https://colab.research.google.com/assets/colab-badge.svg\" alt=\"Open In Colab\"/></a>"
      ]
    },
    {
      "cell_type": "markdown",
      "metadata": {
        "id": "YwRhVNG9kVbv",
        "colab_type": "text"
      },
      "source": [
        "# Tensorflow + Keras Introduction\n",
        "\n",
        "Tensorflow 2.x alongwith Keras API provide a powerful set of tools to write Neural Networks, test and deploy them in a jiffy. \n",
        "\n",
        "The official documentation could be found here : https://www.tensorflow.org/"
      ]
    },
    {
      "cell_type": "markdown",
      "metadata": {
        "id": "RRcZDuL1oJ8e",
        "colab_type": "text"
      },
      "source": [
        "---\n",
        "### TensorFlow 2.0 is an extensive redesign of TensorFlow and Keras that takes into account over four years of user feedback and technical progress.\n",
        "---\n",
        "\n",
        "TensorFlow 2.0 is built on the following key ideas:\n",
        "\n",
        "- Let users run their computation eagerly, like they would in Numpy. This makes TensorFlow 2.0 programming intuitive and Pythonic.\n",
        "- Preserve the considerable advantages of compiled graphs (for performance, distribution, and deployment). This makes TensorFlow fast, scalable, and production-ready.\n",
        "- Leverage Keras as its high-level deep learning API, making TensorFlow approachable and highly productive.\n",
        "- Extend Keras into a spectrum of workflows ranging from the very high-level (easier to use, less flexible) to the very low-level (requires more expertise, but provides great flexibility)."
      ]
    },
    {
      "cell_type": "markdown",
      "metadata": {
        "id": "dQirvOlfk6T6",
        "colab_type": "text"
      },
      "source": [
        "### Easy model building\n",
        "TensorFlow offers multiple levels of abstraction so you can choose the right one for your needs. Build and train models by using the high-level Keras API, which makes getting started with TensorFlow and machine learning easy.\n",
        "\n",
        "If you need more flexibility, eager execution allows for immediate iteration and intuitive debugging. For large ML training tasks, use the Distribution Strategy API for distributed training on different hardware configurations without changing the model definition."
      ]
    },
    {
      "cell_type": "markdown",
      "metadata": {
        "id": "jMN-IZnalFdI",
        "colab_type": "text"
      },
      "source": [
        "### Robust ML production anywhere\n",
        "TensorFlow has always provided a direct path to production. Whether it’s on servers, edge devices, or the web, TensorFlow lets you train and deploy your model easily, no matter what language or platform you use.\n",
        "\n",
        "Use TensorFlow Extended (TFX) if you need a full production ML pipeline. For running inference on mobile and edge devices, use TensorFlow Lite. Train and deploy models in JavaScript environments using TensorFlow.js."
      ]
    },
    {
      "cell_type": "markdown",
      "metadata": {
        "id": "mdQePGOdlMUw",
        "colab_type": "text"
      },
      "source": [
        "### Powerful experimentation for research\n",
        "Build and train state-of-the-art models without sacrificing speed or performance. TensorFlow gives you the flexibility and control with features like the Keras Functional API and Model Subclassing API for creation of complex topologies. For easy prototyping and fast debugging, use eager execution.\n",
        "\n",
        "TensorFlow also supports an ecosystem of powerful add-on libraries and models to experiment with, including Ragged Tensors, TensorFlow Probability, Tensor2Tensor and BERT."
      ]
    },
    {
      "cell_type": "code",
      "metadata": {
        "id": "GjAseJNgjwSq",
        "colab_type": "code",
        "outputId": "239bebfe-e8d1-4251-dfeb-a08c52010742",
        "colab": {
          "base_uri": "https://localhost:8080/",
          "height": 34
        }
      },
      "source": [
        "'''\n",
        "!pip install --upgrade tensorflow\n",
        "!pip install --upgrade tensorflow-gpu\n",
        "'''"
      ],
      "execution_count": 0,
      "outputs": [
        {
          "output_type": "execute_result",
          "data": {
            "text/plain": [
              "'\\n!pip install --upgrade tensorflow\\n!pip install --upgrade tensorflow-gpu\\n'"
            ]
          },
          "metadata": {
            "tags": []
          },
          "execution_count": 2
        }
      ]
    },
    {
      "cell_type": "code",
      "metadata": {
        "id": "n7MT_GHwlfbS",
        "colab_type": "code",
        "outputId": "7cea187a-3cd5-4b3e-bd42-c45070ac6375",
        "colab": {
          "base_uri": "https://localhost:8080/",
          "height": 34
        }
      },
      "source": [
        "# check the version\n",
        "import tensorflow as tf\n",
        "print(('Your TensorFlow version: {0}').format(tf.__version__))"
      ],
      "execution_count": 0,
      "outputs": [
        {
          "output_type": "stream",
          "text": [
            "Your TensorFlow version: 2.2.0-rc3\n"
          ],
          "name": "stdout"
        }
      ]
    },
    {
      "cell_type": "markdown",
      "metadata": {
        "id": "6Fua7TBZlxgM",
        "colab_type": "text"
      },
      "source": [
        "How to verify if running eager execution?\n",
        "\n",
        "Eager execution is a fairly new addition to the tensorflow framework, thus we wish to check if eager execution is enabled or disabled."
      ]
    },
    {
      "cell_type": "code",
      "metadata": {
        "id": "ta3hAFCUl1gd",
        "colab_type": "code",
        "outputId": "9b586dc3-21eb-49a0-bc2c-1cb1d7e1d5a6",
        "colab": {
          "base_uri": "https://localhost:8080/",
          "height": 103
        }
      },
      "source": [
        "if(tf.executing_eagerly()):\n",
        "    print('Eager execution is enabled (running operations immediately)\\n')\n",
        "    print(('Turn eager execution off by running: \\n{0}\\n{1}').format('' \\\n",
        "        'from tensorflow.python.framework.ops import disable_eager_execution', \\\n",
        "        'disable_eager_execution()'))\n",
        "else:\n",
        "    print('You are not running eager execution. TensorFlow version >= 2.0.0' \\\n",
        "          'has eager execution enabled by default.')\n",
        "    print(('Turn on eager execution by running: \\n\\n{0}\\n\\nOr upgrade '\\\n",
        "           'your tensorflow version by running:\\n\\n{1}').format(\n",
        "           'tf.compat.v1.enable_eager_execution()'))"
      ],
      "execution_count": 0,
      "outputs": [
        {
          "output_type": "stream",
          "text": [
            "Eager execution is enabled (running operations immediately)\n",
            "\n",
            "Turn eager execution off by running: \n",
            "from tensorflow.python.framework.ops import disable_eager_execution\n",
            "disable_eager_execution()\n"
          ],
          "name": "stdout"
        }
      ]
    },
    {
      "cell_type": "markdown",
      "metadata": {
        "id": "Rq2K_DC7mOHG",
        "colab_type": "text"
      },
      "source": [
        "Verify if GPU is available and ready to be used"
      ]
    },
    {
      "cell_type": "code",
      "metadata": {
        "id": "oAXts2AVmNtq",
        "colab_type": "code",
        "outputId": "9542cd79-55ce-46df-a746-50d2cb1d611b",
        "colab": {
          "base_uri": "https://localhost:8080/",
          "height": 174
        }
      },
      "source": [
        "print(('Is your GPU available for use? \\n{0}').format(\n",
        "    'Yes, your GPU is available: True' if tf.test.is_gpu_available() == True else 'No, your GPU is NOT available: False'\n",
        "))\n",
        "\n",
        "print(('\\nYour devices that are available:\\n{0}').format(\n",
        "    [device.name for device in tf.config.experimental.list_physical_devices()]\n",
        "))"
      ],
      "execution_count": 0,
      "outputs": [
        {
          "output_type": "stream",
          "text": [
            "WARNING:tensorflow:From <ipython-input-5-9ea70369aac2>:2: is_gpu_available (from tensorflow.python.framework.test_util) is deprecated and will be removed in a future version.\n",
            "Instructions for updating:\n",
            "Use `tf.config.list_physical_devices('GPU')` instead.\n",
            "Is your GPU available for use? \n",
            "Yes, your GPU is available: True\n",
            "\n",
            "Your devices that are available:\n",
            "['/physical_device:CPU:0', '/physical_device:XLA_CPU:0', '/physical_device:XLA_GPU:0', '/physical_device:GPU:0']\n"
          ],
          "name": "stdout"
        }
      ]
    },
    {
      "cell_type": "markdown",
      "metadata": {
        "id": "meIAavg6mnva",
        "colab_type": "text"
      },
      "source": [
        "Check the runtime comparison"
      ]
    },
    {
      "cell_type": "code",
      "metadata": {
        "id": "_SoUuPUymX-i",
        "colab_type": "code",
        "outputId": "936f7475-b6f7-497a-f78d-b39893b2d2a4",
        "colab": {
          "base_uri": "https://localhost:8080/",
          "height": 68
        }
      },
      "source": [
        "import time\n",
        "\n",
        "cpu_slot = 0\n",
        "gpu_slot = 0\n",
        "\n",
        "# Using CPU at slot 0\n",
        "with tf.device('/CPU:' + str(cpu_slot)):\n",
        "    # Starting a timer\n",
        "    start = time.time()\n",
        "\n",
        "    # Doing operations on CPU\n",
        "    random_image_cpu = tf.random.normal((100, 100, 100, 3))\n",
        "    net_cpu = tf.reduce_sum(random_image_cpu)\n",
        "\n",
        "    # Printing how long it took with CPU\n",
        "    end_cpu = time.time() - start\n",
        "    print(end_cpu)\n",
        "\n",
        "# Using the GPU at slot 0\n",
        "with tf.device('/GPU:' + str(gpu_slot)):\n",
        "    # Starting a timer\n",
        "    start = time.time()\n",
        "\n",
        "    # Doing operations on GPU\n",
        "    random_image_gpu = tf.random.normal((100, 100, 100, 3))\n",
        "    net_gpu = tf.reduce_sum(random_image_gpu)\n",
        "\n",
        "    # Printing how long it took with GPU\n",
        "    end_gpu = time.time() - start\n",
        "    print(end_gpu)\n",
        "print('GPU speedup over CPU: {}x'.format(int(end_cpu/end_gpu)))"
      ],
      "execution_count": 0,
      "outputs": [
        {
          "output_type": "stream",
          "text": [
            "0.10677695274353027\n",
            "0.002903461456298828\n",
            "GPU speedup over CPU: 36x\n"
          ],
          "name": "stdout"
        }
      ]
    },
    {
      "cell_type": "markdown",
      "metadata": {
        "id": "Mnk9WgLznexv",
        "colab_type": "text"
      },
      "source": [
        "Basic Datatypes"
      ]
    },
    {
      "cell_type": "markdown",
      "metadata": {
        "id": "8ArPSlQ4njYA",
        "colab_type": "text"
      },
      "source": [
        "**Constant**\n"
      ]
    },
    {
      "cell_type": "code",
      "metadata": {
        "id": "uQIA2PXVnnIL",
        "colab_type": "code",
        "outputId": "386cb9b3-6f91-4648-a39a-8516842ed249",
        "colab": {
          "base_uri": "https://localhost:8080/",
          "height": 34
        }
      },
      "source": [
        "c = tf.constant(4.0, dtype=tf.float64)\n",
        "c.dtype"
      ],
      "execution_count": 0,
      "outputs": [
        {
          "output_type": "execute_result",
          "data": {
            "text/plain": [
              "tf.float64"
            ]
          },
          "metadata": {
            "tags": []
          },
          "execution_count": 8
        }
      ]
    },
    {
      "cell_type": "code",
      "metadata": {
        "id": "vKXMJZEgoX5P",
        "colab_type": "code",
        "outputId": "c6111ab9-724f-4e69-ddbf-d6562a1060fc",
        "colab": {
          "base_uri": "https://localhost:8080/",
          "height": 34
        }
      },
      "source": [
        "import numpy as np\n",
        "d = np.array([ [1,2,3], [4,5,6]])\n",
        "d.dtype"
      ],
      "execution_count": 0,
      "outputs": [
        {
          "output_type": "execute_result",
          "data": {
            "text/plain": [
              "dtype('int64')"
            ]
          },
          "metadata": {
            "tags": []
          },
          "execution_count": 9
        }
      ]
    },
    {
      "cell_type": "code",
      "metadata": {
        "id": "6TTHXQKWodYA",
        "colab_type": "code",
        "outputId": "8bc00e34-3cb4-42c0-e282-a9f0175fe439",
        "colab": {
          "base_uri": "https://localhost:8080/",
          "height": 68
        }
      },
      "source": [
        "tf.constant(d)"
      ],
      "execution_count": 0,
      "outputs": [
        {
          "output_type": "execute_result",
          "data": {
            "text/plain": [
              "<tf.Tensor: shape=(2, 3), dtype=int64, numpy=\n",
              "array([[1, 2, 3],\n",
              "       [4, 5, 6]])>"
            ]
          },
          "metadata": {
            "tags": []
          },
          "execution_count": 10
        }
      ]
    },
    {
      "cell_type": "code",
      "metadata": {
        "id": "FyxVHoqfolIE",
        "colab_type": "code",
        "outputId": "c0e83481-d317-44f5-8456-acd4f6f34d63",
        "colab": {
          "base_uri": "https://localhost:8080/",
          "height": 34
        }
      },
      "source": [
        "b = tf.constant( [1,0,1])\n",
        "b = tf.expand_dims(b,1)\n",
        "b.shape"
      ],
      "execution_count": 0,
      "outputs": [
        {
          "output_type": "execute_result",
          "data": {
            "text/plain": [
              "TensorShape([3, 1])"
            ]
          },
          "metadata": {
            "tags": []
          },
          "execution_count": 11
        }
      ]
    },
    {
      "cell_type": "code",
      "metadata": {
        "id": "FKCokg4MuPt7",
        "colab_type": "code",
        "outputId": "9c375399-d6d1-4191-9da6-42dc1adec1e5",
        "colab": {
          "base_uri": "https://localhost:8080/",
          "height": 68
        }
      },
      "source": [
        "tf.random.normal(shape=(2, 2), mean=0., stddev=1.)"
      ],
      "execution_count": 0,
      "outputs": [
        {
          "output_type": "execute_result",
          "data": {
            "text/plain": [
              "<tf.Tensor: shape=(2, 2), dtype=float32, numpy=\n",
              "array([[-1.3288429,  0.5939752],\n",
              "       [-1.1588409,  2.1864355]], dtype=float32)>"
            ]
          },
          "metadata": {
            "tags": []
          },
          "execution_count": 25
        }
      ]
    },
    {
      "cell_type": "code",
      "metadata": {
        "id": "OgSXd0T-uTwX",
        "colab_type": "code",
        "outputId": "453d655d-7670-43bd-e85f-5fc7382e87f8",
        "colab": {
          "base_uri": "https://localhost:8080/",
          "height": 68
        }
      },
      "source": [
        "tf.random.uniform(shape=(2, 2), minval=0, maxval=10, dtype='int32')"
      ],
      "execution_count": 0,
      "outputs": [
        {
          "output_type": "execute_result",
          "data": {
            "text/plain": [
              "<tf.Tensor: shape=(2, 2), dtype=int32, numpy=\n",
              "array([[5, 6],\n",
              "       [5, 1]], dtype=int32)>"
            ]
          },
          "metadata": {
            "tags": []
          },
          "execution_count": 26
        }
      ]
    },
    {
      "cell_type": "markdown",
      "metadata": {
        "id": "Vsu3IENkrPiT",
        "colab_type": "text"
      },
      "source": [
        "**Variables**"
      ]
    },
    {
      "cell_type": "code",
      "metadata": {
        "id": "t8TJMm9arQmf",
        "colab_type": "code",
        "outputId": "c1f24b95-11d4-4f6a-e414-af9e93fbb1a7",
        "colab": {
          "base_uri": "https://localhost:8080/",
          "height": 68
        }
      },
      "source": [
        "init_vals = tf.random.normal((1,5),0,1)\n",
        "var = tf.Variable(init_vals)\n",
        "print(var)"
      ],
      "execution_count": 0,
      "outputs": [
        {
          "output_type": "stream",
          "text": [
            "<tf.Variable 'Variable:0' shape=(1, 5) dtype=float32, numpy=\n",
            "array([[-0.4293901 ,  0.8120767 ,  0.63981164, -0.09664746, -1.2110232 ]],\n",
            "      dtype=float32)>\n"
          ],
          "name": "stdout"
        }
      ]
    },
    {
      "cell_type": "markdown",
      "metadata": {
        "id": "vQK6S0L1ubNL",
        "colab_type": "text"
      },
      "source": [
        "We update the value of a Variable by using the methods .assign(value), or .assign_add(increment) or .assign_sub(decrement):"
      ]
    },
    {
      "cell_type": "code",
      "metadata": {
        "id": "ZpmZNtjEuh7m",
        "colab_type": "code",
        "outputId": "c8eb0385-be50-4b56-c56d-eb3a0d7dbdee",
        "colab": {
          "base_uri": "https://localhost:8080/",
          "height": 68
        }
      },
      "source": [
        "initial_value = tf.random.normal(shape=(2, 2))\n",
        "a = tf.Variable(initial_value)\n",
        "print(a)"
      ],
      "execution_count": 0,
      "outputs": [
        {
          "output_type": "stream",
          "text": [
            "<tf.Variable 'Variable:0' shape=(2, 2) dtype=float32, numpy=\n",
            "array([[-0.4924259 ,  0.35197845],\n",
            "       [ 0.28024393, -1.8537271 ]], dtype=float32)>\n"
          ],
          "name": "stdout"
        }
      ]
    },
    {
      "cell_type": "code",
      "metadata": {
        "id": "P6En2MDKua3o",
        "colab_type": "code",
        "colab": {}
      },
      "source": [
        "new_value = tf.random.normal(shape=(2, 2))\n",
        "a.assign(new_value)\n",
        "for i in range(2):\n",
        "  for j in range(2):\n",
        "    assert a[i, j] == new_value[i, j]"
      ],
      "execution_count": 0,
      "outputs": []
    },
    {
      "cell_type": "code",
      "metadata": {
        "id": "tO4mdlGXumvt",
        "colab_type": "code",
        "colab": {}
      },
      "source": [
        "added_value = tf.random.normal(shape=(2, 2))\n",
        "a.assign_add(added_value)\n",
        "for i in range(2):\n",
        "  for j in range(2):\n",
        "    assert a[i, j] == new_value[i, j] + added_value[i, j]"
      ],
      "execution_count": 0,
      "outputs": []
    },
    {
      "cell_type": "code",
      "metadata": {
        "id": "TtDgfx7ru0OJ",
        "colab_type": "code",
        "colab": {}
      },
      "source": [
        "a = tf.random.normal(shape=(2, 2))\n",
        "b = tf.random.normal(shape=(2, 2))\n",
        "\n",
        "c = a + b\n",
        "d = tf.square(c)\n",
        "e = tf.exp(d)"
      ],
      "execution_count": 0,
      "outputs": []
    },
    {
      "cell_type": "code",
      "metadata": {
        "id": "XbgUOeQAu4En",
        "colab_type": "code",
        "outputId": "e3d23fbc-6a8a-493f-a2a5-846562b148fd",
        "colab": {
          "base_uri": "https://localhost:8080/",
          "height": 137
        }
      },
      "source": [
        "print (c,d,e)"
      ],
      "execution_count": 0,
      "outputs": [
        {
          "output_type": "stream",
          "text": [
            "tf.Tensor(\n",
            "[[-0.14242262 -0.11921078]\n",
            " [ 0.78528106  0.8551676 ]], shape=(2, 2), dtype=float32) tf.Tensor(\n",
            "[[0.0202842  0.01421121]\n",
            " [0.6166663  0.7313117 ]], shape=(2, 2), dtype=float32) tf.Tensor(\n",
            "[[1.0204914 1.0143126]\n",
            " [1.8527414 2.0778043]], shape=(2, 2), dtype=float32)\n"
          ],
          "name": "stdout"
        }
      ]
    },
    {
      "cell_type": "markdown",
      "metadata": {
        "id": "DwR3H7bNr5Uu",
        "colab_type": "text"
      },
      "source": [
        "**Simple Operations**\n",
        "\n",
        "We need to know the basic operations in tensorflow, in order to be able to use tensorflow for most of our work.\n",
        "\n",
        "**Common Use**\n",
        "\n",
        "This is some of the common functions from tensorflow, that you will probably need to use at some point.\n",
        "\n",
        "* Making tensors tf.constant and tf.Variable\n",
        "\n",
        "* Concatenation of two tensors by tf.concat\n",
        "\n",
        "* Making tensors by tf.zeros or tf.ones\n",
        "\n",
        "* Reshape data by tf.reshape\n",
        "\n",
        "* Casting tensors to other data types by tf.cast"
      ]
    },
    {
      "cell_type": "markdown",
      "metadata": {
        "id": "OYq1CjOtsZMJ",
        "colab_type": "text"
      },
      "source": [
        "Concatenation by tf.concat and making tensors by tf.constant"
      ]
    },
    {
      "cell_type": "code",
      "metadata": {
        "id": "cqxn6Jl_sVPm",
        "colab_type": "code",
        "outputId": "8f1b43c5-7fff-47e9-ac63-f7420bc16122",
        "colab": {
          "base_uri": "https://localhost:8080/",
          "height": 171
        }
      },
      "source": [
        "# Making a constant tensor A, that does not change\n",
        "A = tf.constant([[3, 2],\n",
        "                 [5, 2]])\n",
        "\n",
        "# Making a Variable tensor VA, which can change. Notice it's .Variable\n",
        "VA = tf.Variable([[3, 2],\n",
        "                 [5, 2]])\n",
        "\n",
        "# Making another tensor B\n",
        "B = tf.constant([[9, 5],\n",
        "                 [1, 3]])\n",
        "\n",
        "# Concatenate columns\n",
        "AB_concatenated = tf.concat(values=[A, B], axis=1)\n",
        "print(('Adding B\\'s columns to A:\\n{0}').format(\n",
        "    AB_concatenated.numpy()\n",
        "))\n",
        "\n",
        "# Concatenate rows\n",
        "AB_concatenated = tf.concat(values=[A, B], axis=0)\n",
        "print(('\\nAdding B\\'s rows to A:\\n{0}').format(\n",
        "    AB_concatenated.numpy()\n",
        "))"
      ],
      "execution_count": 0,
      "outputs": [
        {
          "output_type": "stream",
          "text": [
            "Adding B's columns to A:\n",
            "[[3 2 9 5]\n",
            " [5 2 1 3]]\n",
            "\n",
            "Adding B's rows to A:\n",
            "[[3 2]\n",
            " [5 2]\n",
            " [9 5]\n",
            " [1 3]]\n"
          ],
          "name": "stdout"
        }
      ]
    },
    {
      "cell_type": "markdown",
      "metadata": {
        "id": "_LDKQgHYtCnV",
        "colab_type": "text"
      },
      "source": [
        "Making tensors by tf.zeros and tf.ones\n"
      ]
    },
    {
      "cell_type": "code",
      "metadata": {
        "id": "K72HOBvytGyL",
        "colab_type": "code",
        "outputId": "5c8fcb8a-efa2-4ca3-947f-af7b690bc73b",
        "colab": {
          "base_uri": "https://localhost:8080/",
          "height": 206
        }
      },
      "source": [
        "# Making a tensor filled with zeros. shape=[rows, columns]\n",
        "tensor = tf.zeros(shape=[3, 4], dtype=tf.int32)\n",
        "print(('Tensor full of zeros as int32, 3 rows and 4 columns:\\n{0}').format(\n",
        "    tensor.numpy()\n",
        "))\n",
        "\n",
        "# Making a tensor filled with zeros with data type of float32\n",
        "tensor = tf.ones(shape=[5, 3], dtype=tf.float32)\n",
        "print(('\\nTensor full of ones as float32, 5 rows and 3 columns:\\n{0}').format(\n",
        "    tensor.numpy()\n",
        "))"
      ],
      "execution_count": 0,
      "outputs": [
        {
          "output_type": "stream",
          "text": [
            "Tensor full of zeros as int32, 3 rows and 4 columns:\n",
            "[[0 0 0 0]\n",
            " [0 0 0 0]\n",
            " [0 0 0 0]]\n",
            "\n",
            "Tensor full of ones as float32, 5 rows and 3 columns:\n",
            "[[1. 1. 1.]\n",
            " [1. 1. 1.]\n",
            " [1. 1. 1.]\n",
            " [1. 1. 1.]\n",
            " [1. 1. 1.]]\n"
          ],
          "name": "stdout"
        }
      ]
    },
    {
      "cell_type": "code",
      "metadata": {
        "id": "yrrSb66AtNdn",
        "colab_type": "code",
        "outputId": "94aafc83-fb5e-4623-f7d3-8a6f977eea43",
        "colab": {
          "base_uri": "https://localhost:8080/",
          "height": 154
        }
      },
      "source": [
        "# Making a tensor for reshaping\n",
        "tensor = tf.constant([[3, 2],\n",
        "                      [5, 2],\n",
        "                      [9, 5],\n",
        "                      [1, 3]])\n",
        "\n",
        "# Reshaping the tensor into a shape of: shape = [rows, columns]\n",
        "reshaped_tensor = tf.reshape(tensor = tensor,\n",
        "                             shape = [1, 8])\n",
        "\n",
        "print(('Tensor BEFORE reshape:\\n{0}').format(\n",
        "    tensor.numpy()\n",
        "))\n",
        "print(('\\nTensor AFTER reshape:\\n{0}').format(\n",
        "    reshaped_tensor.numpy()\n",
        "))"
      ],
      "execution_count": 0,
      "outputs": [
        {
          "output_type": "stream",
          "text": [
            "Tensor BEFORE reshape:\n",
            "[[3 2]\n",
            " [5 2]\n",
            " [9 5]\n",
            " [1 3]]\n",
            "\n",
            "Tensor AFTER reshape:\n",
            "[[3 2 5 2 9 5 1 3]]\n"
          ],
          "name": "stdout"
        }
      ]
    },
    {
      "cell_type": "code",
      "metadata": {
        "id": "VfzeXWSNtVuI",
        "colab_type": "code",
        "outputId": "0d587649-0a9a-480e-c05b-4e43705efe4b",
        "colab": {
          "base_uri": "https://localhost:8080/",
          "height": 206
        }
      },
      "source": [
        "# Making a tensor\n",
        "tensor = tf.constant([[3.1, 2.8],\n",
        "                      [5.2, 2.3],\n",
        "                      [9.7, 5.5],\n",
        "                      [1.1, 3.4]], \n",
        "                      dtype=tf.float32)\n",
        "\n",
        "tensor_as_int = tf.cast(tensor, tf.int32)\n",
        "\n",
        "print(('Tensor with floats:\\n{0}').format(\n",
        "    tensor.numpy()\n",
        "))\n",
        "print(('\\nTensor cast from float to int (just remove the decimal, no rounding):\\n{0}').format(\n",
        "    tensor_as_int.numpy()\n",
        "))"
      ],
      "execution_count": 0,
      "outputs": [
        {
          "output_type": "stream",
          "text": [
            "Tensor with floats:\n",
            "[[3.1 2.8]\n",
            " [5.2 2.3]\n",
            " [9.7 5.5]\n",
            " [1.1 3.4]]\n",
            "\n",
            "Tensor cast from float to int (just remove the decimal, no rounding):\n",
            "[[3 2]\n",
            " [5 2]\n",
            " [9 5]\n",
            " [1 3]]\n"
          ],
          "name": "stdout"
        }
      ]
    },
    {
      "cell_type": "markdown",
      "metadata": {
        "id": "CZhbGkH8tcS7",
        "colab_type": "text"
      },
      "source": [
        "### The linear algebra operations\n",
        "* Transpose tensor\n",
        "* Matrix Multiplication\n",
        "* Element-wise multiplication\n",
        "* Identity Matrix\n",
        "* Determinant\n",
        "* Dot Product"
      ]
    },
    {
      "cell_type": "code",
      "metadata": {
        "id": "ISQcseLltin5",
        "colab_type": "code",
        "outputId": "b760a7da-56b1-44a2-989a-833c78d86bdb",
        "colab": {
          "base_uri": "https://localhost:8080/",
          "height": 68
        }
      },
      "source": [
        "# Some Matrix A\n",
        "A = tf.constant([[3, 7],\n",
        "                 [1, 9]])\n",
        "\n",
        "A = tf.transpose(A)\n",
        "\n",
        "print(('The transposed matrix A:\\n{0}').format(\n",
        "    A\n",
        "))"
      ],
      "execution_count": 0,
      "outputs": [
        {
          "output_type": "stream",
          "text": [
            "The transposed matrix A:\n",
            "[[3 1]\n",
            " [7 9]]\n"
          ],
          "name": "stdout"
        }
      ]
    },
    {
      "cell_type": "code",
      "metadata": {
        "id": "kZNUbYcDtmJS",
        "colab_type": "code",
        "outputId": "924f4dd2-9646-4246-9895-65076f0551d6",
        "colab": {
          "base_uri": "https://localhost:8080/",
          "height": 68
        }
      },
      "source": [
        "# Some Matrix A\n",
        "A = tf.constant([[3, 7],\n",
        "                 [1, 9]])\n",
        "\n",
        "# Some vector v\n",
        "v = tf.constant([[5],\n",
        "                 [2]])\n",
        "\n",
        "# Matrix multiplication of A.v^T\n",
        "Av = tf.matmul(A, v)\n",
        "\n",
        "print(('Matrix Multiplication of A and v results in a new Tensor:\\n{0}').format(\n",
        "    Av\n",
        "))"
      ],
      "execution_count": 0,
      "outputs": [
        {
          "output_type": "stream",
          "text": [
            "Matrix Multiplication of A and v results in a new Tensor:\n",
            "[[29]\n",
            " [23]]\n"
          ],
          "name": "stdout"
        }
      ]
    },
    {
      "cell_type": "code",
      "metadata": {
        "id": "KFHtRNCwtp3d",
        "colab_type": "code",
        "outputId": "7c4d9b81-c485-4788-9345-171bea8939ea",
        "colab": {
          "base_uri": "https://localhost:8080/",
          "height": 68
        }
      },
      "source": [
        "# Element-wise multiplication\n",
        "Av = tf.multiply(A, v)\n",
        "\n",
        "print(('Element-wise multiplication of A and v results in a new Tensor:\\n{0}').format(\n",
        "    Av\n",
        "))"
      ],
      "execution_count": 0,
      "outputs": [
        {
          "output_type": "stream",
          "text": [
            "Element-wise multiplication of A and v results in a new Tensor:\n",
            "[[15 35]\n",
            " [ 2 18]]\n"
          ],
          "name": "stdout"
        }
      ]
    },
    {
      "cell_type": "code",
      "metadata": {
        "id": "p_bcCgbWtu4Z",
        "colab_type": "code",
        "outputId": "441441c0-4506-4da6-9f99-a90a77086c36",
        "colab": {
          "base_uri": "https://localhost:8080/",
          "height": 154
        }
      },
      "source": [
        "# Some Matrix A\n",
        "A = tf.constant([[3, 7],\n",
        "                 [1, 9],\n",
        "                 [2, 5]])\n",
        "\n",
        "# Get number of dimensions\n",
        "rows, columns = A.shape\n",
        "print(('Get rows and columns in tensor A:\\n{0} rows\\n{1} columns').format(\n",
        "    rows, columns\n",
        "))\n",
        "\n",
        "# Making identity matrix\n",
        "A_identity = tf.eye(num_rows = rows,\n",
        "                    num_columns = columns,\n",
        "                    dtype = tf.int32)\n",
        "print(('\\nThe identity matrix of A:\\n{0}').format(\n",
        "    A_identity.numpy()\n",
        "))"
      ],
      "execution_count": 0,
      "outputs": [
        {
          "output_type": "stream",
          "text": [
            "Get rows and columns in tensor A:\n",
            "3 rows\n",
            "2 columns\n",
            "\n",
            "The identity matrix of A:\n",
            "[[1 0]\n",
            " [0 1]\n",
            " [0 0]]\n"
          ],
          "name": "stdout"
        }
      ]
    },
    {
      "cell_type": "code",
      "metadata": {
        "id": "dvM490dUtwSu",
        "colab_type": "code",
        "outputId": "eb9cf159-5c77-40b0-b1ac-a878e81a8d89",
        "colab": {
          "base_uri": "https://localhost:8080/",
          "height": 51
        }
      },
      "source": [
        "# Reusing Matrix A\n",
        "A = tf.constant([[3, 7],\n",
        "                 [1, 9]])\n",
        "\n",
        "# Determinant must be: half, float32, float64, complex64, complex128\n",
        "# Thus, we cast A to the data type float32\n",
        "A = tf.dtypes.cast(A, tf.float32)\n",
        "\n",
        "# Finding the determinant of A\n",
        "det_A = tf.linalg.det(A)\n",
        "\n",
        "print(('The determinant of A:\\n{0}').format(\n",
        "    det_A\n",
        "))"
      ],
      "execution_count": 0,
      "outputs": [
        {
          "output_type": "stream",
          "text": [
            "The determinant of A:\n",
            "20.000001907348633\n"
          ],
          "name": "stdout"
        }
      ]
    },
    {
      "cell_type": "code",
      "metadata": {
        "id": "5Tml7JLqt4Lg",
        "colab_type": "code",
        "outputId": "f72764e5-a345-48ae-cf43-2cdbf76a5d2b",
        "colab": {
          "base_uri": "https://localhost:8080/",
          "height": 171
        }
      },
      "source": [
        "# Defining a 3x3 matrix\n",
        "A = tf.constant([[32, 83, 5],\n",
        "                 [17, 23, 10],\n",
        "                 [75, 39, 52]])\n",
        "\n",
        "# Defining another 3x3 matrix\n",
        "B = tf.constant([[28, 57, 20],\n",
        "                 [91, 10, 95],\n",
        "                 [37, 13, 45]])\n",
        "\n",
        "# Finding the dot product\n",
        "dot_AB = tf.tensordot(a=A, b=B, axes=1).numpy()\n",
        "\n",
        "print(('Dot product of A.B^T results in a new Tensor:\\n{0}').format(\n",
        "    dot_AB\n",
        "))\n",
        "\n",
        "# Which is the same as matrix multiplication in this instance (axes=1)\n",
        "# Matrix multiplication of A and B\n",
        "AB = tf.matmul(A, B)\n",
        "\n",
        "print(('\\nMatrix Multiplication of A.B^T results in a new Tensor:\\n{0}').format(\n",
        "    AB\n",
        "))"
      ],
      "execution_count": 0,
      "outputs": [
        {
          "output_type": "stream",
          "text": [
            "Dot product of A.B^T results in a new Tensor:\n",
            "[[8634 2719 8750]\n",
            " [2939 1329 2975]\n",
            " [7573 5341 7545]]\n",
            "\n",
            "Matrix Multiplication of A.B^T results in a new Tensor:\n",
            "[[8634 2719 8750]\n",
            " [2939 1329 2975]\n",
            " [7573 5341 7545]]\n"
          ],
          "name": "stdout"
        }
      ]
    },
    {
      "cell_type": "markdown",
      "metadata": {
        "id": "lQnif_fst-XY",
        "colab_type": "text"
      },
      "source": [
        "### Calculating Gradients\n",
        "When using gradient tape from TensorFlow, we need to create a tf.Variable and not tf.constant, because TensorFlow does not watch constants. The great thing about making variables is that we can use gradient tape at any time, and TensorFlow will automatically give us the gradient."
      ]
    },
    {
      "cell_type": "code",
      "metadata": {
        "id": "uKny5OJZuA78",
        "colab_type": "code",
        "outputId": "b582aa7e-6a6e-4975-cb82-063bb43d7273",
        "colab": {
          "base_uri": "https://localhost:8080/",
          "height": 68
        }
      },
      "source": [
        "a = tf.random.normal(shape=(2, 2))\n",
        "b = tf.random.normal(shape=(2, 2))\n",
        "\n",
        "with tf.GradientTape() as tape:\n",
        "  tape.watch(a)  # Start recording the history of operations applied to `a`\n",
        "  c = tf.sqrt(tf.square(a) + tf.square(b))  # Do some math using `a`\n",
        "  # What's the gradient of `c` with respect to `a`?\n",
        "  dc_da = tape.gradient(c, a)\n",
        "  print(dc_da)"
      ],
      "execution_count": 0,
      "outputs": [
        {
          "output_type": "stream",
          "text": [
            "tf.Tensor(\n",
            "[[-0.6107115  -0.95586383]\n",
            " [ 0.38997647  0.05260267]], shape=(2, 2), dtype=float32)\n"
          ],
          "name": "stdout"
        }
      ]
    },
    {
      "cell_type": "code",
      "metadata": {
        "id": "UyEkKjaSvIUj",
        "colab_type": "code",
        "outputId": "83b6f95c-48f5-4c2c-8efe-a59f28b8a3c9",
        "colab": {
          "base_uri": "https://localhost:8080/",
          "height": 68
        }
      },
      "source": [
        "a = tf.Variable(a)\n",
        "\n",
        "with tf.GradientTape() as tape:\n",
        "  c = tf.sqrt(tf.square(a) + tf.square(b))\n",
        "  dc_da = tape.gradient(c, a)\n",
        "  print(dc_da)"
      ],
      "execution_count": 0,
      "outputs": [
        {
          "output_type": "stream",
          "text": [
            "tf.Tensor(\n",
            "[[-0.6107115  -0.95586383]\n",
            " [ 0.38997647  0.05260267]], shape=(2, 2), dtype=float32)\n"
          ],
          "name": "stdout"
        }
      ]
    },
    {
      "cell_type": "code",
      "metadata": {
        "id": "MfHvEMtWvL-n",
        "colab_type": "code",
        "outputId": "2092ca2c-2283-49d4-ba92-8c0fa3a3ca6c",
        "colab": {
          "base_uri": "https://localhost:8080/",
          "height": 68
        }
      },
      "source": [
        "with tf.GradientTape() as outer_tape:\n",
        "  with tf.GradientTape() as tape:\n",
        "    c = tf.sqrt(tf.square(a) + tf.square(b))\n",
        "    dc_da = tape.gradient(c, a)\n",
        "  d2c_da2 = outer_tape.gradient(dc_da, a)\n",
        "  print(d2c_da2)"
      ],
      "execution_count": 0,
      "outputs": [
        {
          "output_type": "stream",
          "text": [
            "tf.Tensor(\n",
            "[[0.24402452 0.08998311]\n",
            " [0.5568948  0.60084194]], shape=(2, 2), dtype=float32)\n"
          ],
          "name": "stdout"
        }
      ]
    },
    {
      "cell_type": "markdown",
      "metadata": {
        "id": "Uhxm3yPWvT9B",
        "colab_type": "text"
      },
      "source": [
        "Lets take an example of Hyperbolic Tan function (tanh) and try to get its derivative.\n"
      ]
    },
    {
      "cell_type": "markdown",
      "metadata": {
        "id": "CbCpEO82wNSC",
        "colab_type": "text"
      },
      "source": [
        "![alt text](https://mathworld.wolfram.com/images/interactive/TanhReal.gif)"
      ]
    },
    {
      "cell_type": "code",
      "metadata": {
        "id": "_cviVWPQvbDR",
        "colab_type": "code",
        "outputId": "6aafb93b-425a-4087-e7ca-28dee5f1bd21",
        "colab": {
          "base_uri": "https://localhost:8080/",
          "height": 34
        }
      },
      "source": [
        "import math\n",
        "\n",
        "def tanh(x):\n",
        "    return tf.tanh(x)\n",
        "\n",
        "def get_gradient(x, activation_function):\n",
        "    with tf.GradientTape() as gt:\n",
        "        y = activation_function(x)\n",
        "\n",
        "    gradient = gt.gradient(y, x).numpy()\n",
        "\n",
        "    return gradient\n",
        "\n",
        "x = tf.Variable(0.75)\n",
        "gradient = get_gradient(x, tanh)\n",
        "\n",
        "print('{0} is the gradient of tanh with x={1}'.format(gradient, x.numpy()))"
      ],
      "execution_count": 0,
      "outputs": [
        {
          "output_type": "stream",
          "text": [
            "0.5965858101844788 is the gradient of tanh with x=0.75\n"
          ],
          "name": "stdout"
        }
      ]
    },
    {
      "cell_type": "markdown",
      "metadata": {
        "id": "6178V2xWxF1z",
        "colab_type": "text"
      },
      "source": [
        "### An end-to-end example: linear regression\n",
        "So far we have learned that TensorFlow is a Numpy-like library that is GPU or TPU accelerated, with automatic differentiation. Time for an end-to-end example: let's implement a linear regression."
      ]
    },
    {
      "cell_type": "code",
      "metadata": {
        "id": "SE0JpcJ6xNsp",
        "colab_type": "code",
        "colab": {}
      },
      "source": [
        "input_dim = 2\n",
        "output_dim = 1\n",
        "learning_rate = 0.01\n",
        "\n",
        "# This is our weight matrix\n",
        "w = tf.Variable(tf.random.uniform(shape=(input_dim, output_dim)))\n",
        "# This is our bias vector\n",
        "b = tf.Variable(tf.zeros(shape=(output_dim,)))\n",
        "\n",
        "def compute_predictions(features):\n",
        "  return tf.matmul(features, w) + b\n",
        "\n",
        "def compute_loss(labels, predictions):\n",
        "  return tf.reduce_mean(tf.square(labels - predictions))\n",
        "\n",
        "def train_on_batch(x, y):\n",
        "  with tf.GradientTape() as tape:\n",
        "    predictions = compute_predictions(x)\n",
        "    loss = compute_loss(y, predictions)\n",
        "    dloss_dw, dloss_db = tape.gradient(loss, [w, b])\n",
        "  w.assign_sub(learning_rate * dloss_dw)\n",
        "  b.assign_sub(learning_rate * dloss_db)\n",
        "  return loss"
      ],
      "execution_count": 0,
      "outputs": []
    },
    {
      "cell_type": "code",
      "metadata": {
        "id": "IR899iPvyUUW",
        "colab_type": "code",
        "colab": {}
      },
      "source": [
        "# Homework. \n",
        "To genrate data and utilize the above code to run a simple linear regression."
      ],
      "execution_count": 0,
      "outputs": []
    },
    {
      "cell_type": "markdown",
      "metadata": {
        "id": "2SHwiN21ybHD",
        "colab_type": "text"
      },
      "source": [
        "**Going fast with graphs**\n",
        "\n",
        "Literally all we need to do is add the tf.function decorator on it"
      ]
    },
    {
      "cell_type": "code",
      "metadata": {
        "id": "HaMGa3viy5rQ",
        "colab_type": "code",
        "colab": {}
      },
      "source": [
        "# dummy code\n",
        "@tf.function\n",
        "def train_on_batch(x, y):\n",
        "  with tf.GradientTape() as tape:\n",
        "    predictions = compute_predictions(x)\n",
        "    loss = compute_loss(y, predictions)\n",
        "    dloss_dw, dloss_db = tape.gradient(loss, [w, b])\n",
        "  w.assign_sub(learning_rate * dloss_dw)\n",
        "  b.assign_sub(learning_rate * dloss_db)\n",
        "  return loss"
      ],
      "execution_count": 0,
      "outputs": []
    },
    {
      "cell_type": "markdown",
      "metadata": {
        "id": "afnpEWu_zMSH",
        "colab_type": "text"
      },
      "source": [
        "Lets see how fast it could go!"
      ]
    },
    {
      "cell_type": "code",
      "metadata": {
        "id": "3zcV8VMyzHkV",
        "colab_type": "code",
        "outputId": "d58b513f-5b98-4775-fa70-4d49488f8ec1",
        "colab": {
          "base_uri": "https://localhost:8080/",
          "height": 120
        }
      },
      "source": [
        "import timeit\n",
        "conv_layer = tf.keras.layers.Conv2D(100, 3)\n",
        "\n",
        "@tf.function\n",
        "def conv_fn(image):\n",
        "  return conv_layer(image)\n",
        "\n",
        "image = tf.zeros([1, 200, 200, 100])\n",
        "# warm up\n",
        "conv_layer(image); conv_fn(image)\n",
        "\n",
        "no_tf_fn = timeit.timeit(lambda: conv_layer(image), number=10)\n",
        "with_tf_fn = timeit.timeit(lambda: conv_fn(image), number=10)\n",
        "difference = no_tf_fn - with_tf_fn\n",
        "\n",
        "print(\"Without tf.function: \", no_tf_fn)\n",
        "print(\"With tf.function: \", with_tf_fn)\n",
        "print(\"The difference: \", difference)\n",
        "\n",
        "print(\"\\nJust imagine when we have to do millions/billions of these calculations\")\n",
        "print(\"Difference times a billion: \", difference*1000000000)"
      ],
      "execution_count": 0,
      "outputs": [
        {
          "output_type": "stream",
          "text": [
            "Without tf.function:  0.0056742610004221206\n",
            "With tf.function:  0.003800496000167186\n",
            "The difference:  0.0018737650002549344\n",
            "\n",
            "Just imagine when we have to do millions/billions of these calculations\n",
            "Difference times a billion:  1873765.0002549344\n"
          ],
          "name": "stdout"
        }
      ]
    }
  ]
}